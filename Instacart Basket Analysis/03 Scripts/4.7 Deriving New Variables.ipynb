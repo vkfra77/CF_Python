{
 "cells": [
  {
   "cell_type": "markdown",
   "id": "676a5a19-2c0f-46a1-b6d0-f673ec3c9db7",
   "metadata": {},
   "source": [
    "# Exercise 4.7: Deriving New Variables"
   ]
  },
  {
   "cell_type": "markdown",
   "id": "6383aa77-0139-4a23-901a-e8419f83a53d",
   "metadata": {},
   "source": [
    "# 01. Importing libraries"
   ]
  },
  {
   "cell_type": "code",
   "execution_count": 4,
   "id": "f75846d9-02e2-4748-b8b9-0f91d6218b42",
   "metadata": {},
   "outputs": [],
   "source": [
    "# Import libraries\n",
    "\n",
    "import pandas as pd\n",
    "import numpy as np\n",
    "import os"
   ]
  },
  {
   "cell_type": "markdown",
   "id": "5525a140-ca43-4969-aa1f-cf8f55ba2fc5",
   "metadata": {},
   "source": [
    "# 02. Importing data"
   ]
  },
  {
   "cell_type": "code",
   "execution_count": 6,
   "id": "9112b16a-29bd-4c30-ba62-519e8339378f",
   "metadata": {},
   "outputs": [],
   "source": [
    "# Importing the merged orders-products data\n",
    "\n",
    "path = r'/Users/vijaykasturi/Library/CloudStorage/OneDrive-Personal/Data Analytics Course - CareerFoundry/Data Immersion/A4/Instacart Basket Analysis'\n",
    "\n",
    "df_ords_prods = pd.read_pickle(os.path.join(path, '02 Data', 'Prepared Data', 'orders_products_merged.pkl'))"
   ]
  },
  {
   "cell_type": "code",
   "execution_count": 7,
   "id": "90e9b93a-be7d-47d1-92aa-da71e4f0d7cc",
   "metadata": {},
   "outputs": [],
   "source": [
    "# Create a subset\n",
    "\n",
    "df = df_ords_prods[:1000000]"
   ]
  },
  {
   "cell_type": "code",
   "execution_count": 8,
   "id": "b96d0e90-b740-45e7-aac8-e106d4e2d9ea",
   "metadata": {},
   "outputs": [],
   "source": [
    "# Define Function\n",
    "\n",
    "def price_label(row):\n",
    "    \n",
    "    if row['prices'] <= 5:\n",
    "        return 'Low-range Product'\n",
    "    elif (row['prices'] > 5) and row['prices'] <= 15:\n",
    "        return 'Mid-range Product'\n",
    "    elif row['prices'] > 5:\n",
    "        return 'High-range Product'\n",
    "    else: return np.nan"
   ]
  },
  {
   "cell_type": "code",
   "execution_count": 9,
   "id": "6fa9d096-b520-484a-a1ed-30d47c21303f",
   "metadata": {},
   "outputs": [
    {
     "name": "stderr",
     "output_type": "stream",
     "text": [
      "/var/folders/73/ncnyv2zs7tlgp3vnng5pbtv00000gn/T/ipykernel_87387/93659844.py:3: SettingWithCopyWarning: \n",
      "A value is trying to be set on a copy of a slice from a DataFrame.\n",
      "Try using .loc[row_indexer,col_indexer] = value instead\n",
      "\n",
      "See the caveats in the documentation: https://pandas.pydata.org/pandas-docs/stable/user_guide/indexing.html#returning-a-view-versus-a-copy\n",
      "  df['price_range'] = df.apply(price_label, axis=1)\n"
     ]
    }
   ],
   "source": [
    "# Apply the function\n",
    "\n",
    "df['price_range'] = df.apply(price_label, axis=1)"
   ]
  },
  {
   "cell_type": "code",
   "execution_count": 10,
   "id": "aed69666-c668-405a-8efb-514321585ad1",
   "metadata": {},
   "outputs": [
    {
     "data": {
      "text/plain": [
       "price_range\n",
       "Mid-range Product     673183\n",
       "Low-range Product     314392\n",
       "High-range Product     12425\n",
       "Name: count, dtype: int64"
      ]
     },
     "execution_count": 10,
     "metadata": {},
     "output_type": "execute_result"
    }
   ],
   "source": [
    "df['price_range'].value_counts(dropna = False)"
   ]
  },
  {
   "cell_type": "code",
   "execution_count": 11,
   "id": "a500c810-fbff-412e-a9f0-300be6e8904c",
   "metadata": {},
   "outputs": [
    {
     "data": {
      "text/plain": [
       "99999.0"
      ]
     },
     "execution_count": 11,
     "metadata": {},
     "output_type": "execute_result"
    }
   ],
   "source": [
    "df['prices'].max()"
   ]
  },
  {
   "cell_type": "code",
   "execution_count": 12,
   "id": "22603a22-3eef-483c-92f4-2fffc906b151",
   "metadata": {},
   "outputs": [
    {
     "name": "stderr",
     "output_type": "stream",
     "text": [
      "/var/folders/73/ncnyv2zs7tlgp3vnng5pbtv00000gn/T/ipykernel_87387/3838300506.py:3: SettingWithCopyWarning: \n",
      "A value is trying to be set on a copy of a slice from a DataFrame.\n",
      "Try using .loc[row_indexer,col_indexer] = value instead\n",
      "\n",
      "See the caveats in the documentation: https://pandas.pydata.org/pandas-docs/stable/user_guide/indexing.html#returning-a-view-versus-a-copy\n",
      "  df.loc[df['prices'] > 15, 'price_range_loc'] = 'High-range product'\n"
     ]
    }
   ],
   "source": [
    "# Using loc()\n",
    "\n",
    "df.loc[df['prices'] > 15, 'price_range_loc'] = 'High-range product'\n",
    "df.loc[(df['prices'] <= 15) & (df['prices'] > 5), 'price_range_loc'] = 'Mid-range product' \n",
    "df.loc[df['prices'] <= 5, 'price_range_loc'] = 'Low-range product'"
   ]
  },
  {
   "cell_type": "code",
   "execution_count": 13,
   "id": "94ddd4dc-23fb-482b-841c-d9bbd68306e6",
   "metadata": {},
   "outputs": [
    {
     "data": {
      "text/plain": [
       "price_range_loc\n",
       "Mid-range product     673183\n",
       "Low-range product     314392\n",
       "High-range product     12425\n",
       "Name: count, dtype: int64"
      ]
     },
     "execution_count": 13,
     "metadata": {},
     "output_type": "execute_result"
    }
   ],
   "source": [
    "df['price_range_loc'].value_counts(dropna = False)"
   ]
  },
  {
   "cell_type": "code",
   "execution_count": 14,
   "id": "f861eab1-e1bf-480e-9db1-16c72d321416",
   "metadata": {},
   "outputs": [],
   "source": [
    "df_ords_prods.loc[df_ords_prods['prices'] > 15, 'price_range_loc'] = 'High-range product'\n",
    "df_ords_prods.loc[(df_ords_prods['prices'] <= 15) & (df_ords_prods['prices'] > 5), 'price_range_loc'] = 'Mid-range product' \n",
    "df_ords_prods.loc[df_ords_prods['prices'] <= 5, 'price_range_loc'] = 'Low-range product'"
   ]
  },
  {
   "cell_type": "code",
   "execution_count": 15,
   "id": "ab0e049d-b330-43e9-a291-9410f034b5fe",
   "metadata": {},
   "outputs": [
    {
     "data": {
      "text/plain": [
       "price_range_loc\n",
       "Mid-range product     21860860\n",
       "Low-range product     10126321\n",
       "High-range product      417678\n",
       "Name: count, dtype: int64"
      ]
     },
     "execution_count": 15,
     "metadata": {},
     "output_type": "execute_result"
    }
   ],
   "source": [
    "df_ords_prods['price_range_loc'].value_counts(dropna = False)"
   ]
  },
  {
   "cell_type": "code",
   "execution_count": 16,
   "id": "f352e1d2-6504-496f-9db2-c763a5a9d2bd",
   "metadata": {},
   "outputs": [
    {
     "data": {
      "text/plain": [
       "orders_day_of_week\n",
       "0    6204182\n",
       "1    5660230\n",
       "6    4496490\n",
       "2    4213830\n",
       "5    4205791\n",
       "3    3840534\n",
       "4    3783802\n",
       "Name: count, dtype: int64"
      ]
     },
     "execution_count": 16,
     "metadata": {},
     "output_type": "execute_result"
    }
   ],
   "source": [
    "# Using for-loops\n",
    "\n",
    "df_ords_prods['orders_day_of_week'].value_counts(dropna=False)"
   ]
  },
  {
   "cell_type": "code",
   "execution_count": 17,
   "id": "ae42841e-ac8b-44e0-8d3e-a863945b07b8",
   "metadata": {},
   "outputs": [],
   "source": [
    "result = []\n",
    "\n",
    "for value in df_ords_prods[\"orders_day_of_week\"]:\n",
    "  if value == 0:\n",
    "    result.append(\"Busiest day\")\n",
    "  elif value == 4:\n",
    "    result.append(\"Least busy\")\n",
    "  else:\n",
    "    result.append(\"Regularly busy\")"
   ]
  },
  {
   "cell_type": "code",
   "execution_count": 18,
   "id": "6ea4e596-c63d-4ac1-bfc7-7104751632e0",
   "metadata": {},
   "outputs": [],
   "source": [
    "# Insert \"values\" into data frame\n",
    "\n",
    "df_ords_prods['busiest_day'] = result"
   ]
  },
  {
   "cell_type": "code",
   "execution_count": 19,
   "id": "a274d1b4-d52f-437c-ae6a-9b2a9c0310bf",
   "metadata": {},
   "outputs": [
    {
     "data": {
      "text/plain": [
       "busiest_day\n",
       "Regularly busy    22416875\n",
       "Busiest day        6204182\n",
       "Least busy         3783802\n",
       "Name: count, dtype: int64"
      ]
     },
     "execution_count": 19,
     "metadata": {},
     "output_type": "execute_result"
    }
   ],
   "source": [
    "df_ords_prods['busiest_day'].value_counts(dropna=False)"
   ]
  },
  {
   "cell_type": "markdown",
   "id": "dc736d5a-e22b-4a22-8158-10d1d4271769",
   "metadata": {},
   "source": [
    "# 04. Tasks 4.7"
   ]
  },
  {
   "cell_type": "code",
   "execution_count": 21,
   "id": "036b277a-805d-4e1f-8069-ed3ee3a044b3",
   "metadata": {},
   "outputs": [],
   "source": [
    "# 4.7.2 Changing the labels\n",
    "\n",
    "result = []\n",
    "\n",
    "for value in df_ords_prods[\"orders_day_of_week\"]:\n",
    "  if value == 0 or value == 1:\n",
    "    result.append(\"Busiest days\")\n",
    "  elif value == 4 or value == 3:\n",
    "    result.append(\"Slowest days\")\n",
    "  else:\n",
    "    result.append(\"Regular days\")"
   ]
  },
  {
   "cell_type": "code",
   "execution_count": 22,
   "id": "3c089d1e-16fe-448b-b74d-2042272ec76e",
   "metadata": {},
   "outputs": [],
   "source": [
    "# Insert new into new column in data frame\n",
    "\n",
    "df_ords_prods['daily_traffic_label'] = result"
   ]
  },
  {
   "cell_type": "code",
   "execution_count": 23,
   "id": "d1b6e3a4-4518-4314-866a-a1f032f9e663",
   "metadata": {},
   "outputs": [
    {
     "data": {
      "text/plain": [
       "daily_traffic_label\n",
       "Regular days    12916111\n",
       "Busiest days    11864412\n",
       "Slowest days     7624336\n",
       "Name: count, dtype: int64"
      ]
     },
     "execution_count": 23,
     "metadata": {},
     "output_type": "execute_result"
    }
   ],
   "source": [
    "df_ords_prods['daily_traffic_label'].value_counts(dropna=False)"
   ]
  },
  {
   "cell_type": "markdown",
   "id": "527033a1-e887-4ff8-aa83-40e1d85ac569",
   "metadata": {},
   "source": [
    "# 4.7.3: The 2 busiest days are 0 & 1 with agg. 11,864,412 orders; the 2 slowest days are 3 & 4 with agg. 7,624,336 orders."
   ]
  },
  {
   "cell_type": "code",
   "execution_count": 25,
   "id": "9200bef9-4606-4b3a-b40c-05e2f3f66997",
   "metadata": {},
   "outputs": [
    {
     "data": {
      "text/plain": [
       "order_hour_of_day\n",
       "10    2761760\n",
       "11    2736140\n",
       "14    2689136\n",
       "15    2662144\n",
       "13    2660954\n",
       "12    2618532\n",
       "16    2535202\n",
       "9     2454203\n",
       "17    2087654\n",
       "8     1718118\n",
       "18    1636502\n",
       "19    1258305\n",
       "20     976156\n",
       "7      891054\n",
       "21     795637\n",
       "22     634225\n",
       "23     402316\n",
       "6      290493\n",
       "0      218769\n",
       "1      115700\n",
       "5       87961\n",
       "2       69375\n",
       "4       53242\n",
       "3       51281\n",
       "Name: count, dtype: int64"
      ]
     },
     "execution_count": 25,
     "metadata": {},
     "output_type": "execute_result"
    }
   ],
   "source": [
    "# 4.7.4 Identifying busiest hours of the day\n",
    "\n",
    "df_ords_prods['order_hour_of_day'].value_counts(dropna=False)"
   ]
  },
  {
   "cell_type": "code",
   "execution_count": null,
   "id": "e3e1d2d3-6e05-4472-bd4e-c874b49c8e58",
   "metadata": {},
   "outputs": [],
   "source": []
  },
  {
   "cell_type": "code",
   "execution_count": 107,
   "id": "d1b1e829-5458-4436-89d5-fbe82cfbba9f",
   "metadata": {},
   "outputs": [
    {
     "name": "stderr",
     "output_type": "stream",
     "text": [
      "/var/folders/73/ncnyv2zs7tlgp3vnng5pbtv00000gn/T/ipykernel_87387/3772987008.py:5: FutureWarning: A value is trying to be set on a copy of a DataFrame or Series through chained assignment using an inplace method.\n",
      "The behavior will change in pandas 3.0. This inplace method will never work because the intermediate object on which we are setting values always behaves as a copy.\n",
      "\n",
      "For example, when doing 'df[col].method(value, inplace=True)', try using 'df.method({col: value}, inplace=True)' or df[col] = df[col].method(value) instead, to perform the operation inplace on the original object.\n",
      "\n",
      "\n",
      "  df_ords_prods['busiest_period_of_day'].fillna('Average orders', inplace = True)\n"
     ]
    }
   ],
   "source": [
    "# Defining labels for Busiest periods\n",
    "\n",
    "df_ords_prods.loc[df_ords_prods['order_hour_of_day'].isin(range(0,6)), 'busiest_period_of_day'] = 'Fewest orders'\n",
    "df_ords_prods.loc[df_ords_prods['order_hour_of_day'].isin(range(10,19)), 'busiest_period_of_day'] = 'Most orders'\n",
    "df_ords_prods['busiest_period_of_day'].fillna('Average orders', inplace = True)"
   ]
  },
  {
   "cell_type": "code",
   "execution_count": 115,
   "id": "c1b6a2e9-85ea-44a7-a8a9-810f14ecd919",
   "metadata": {},
   "outputs": [
    {
     "data": {
      "text/plain": [
       "busiest_period_of_day\n",
       "Most orders       22388024\n",
       "Average orders     9420507\n",
       "Fewest orders       596328\n",
       "Name: count, dtype: int64"
      ]
     },
     "execution_count": 115,
     "metadata": {},
     "output_type": "execute_result"
    }
   ],
   "source": [
    "# 4.7.5 Frequency for the new column\n",
    "\n",
    "df_ords_prods['busiest_period_of_day'].value_counts(dropna=False)"
   ]
  },
  {
   "cell_type": "markdown",
   "id": "e5d0db7a-279b-43a6-8a85-324910a8cf88",
   "metadata": {},
   "source": [
    "# 05. Exporting data"
   ]
  },
  {
   "cell_type": "code",
   "execution_count": null,
   "id": "f17f45eb-56a4-4f5f-8df7-10d8eed009d6",
   "metadata": {},
   "outputs": [],
   "source": []
  },
  {
   "cell_type": "code",
   "execution_count": 117,
   "id": "58508e91-c8d9-488a-bf4c-5b64f554fcf7",
   "metadata": {},
   "outputs": [],
   "source": [
    "# Export df_ords_prods as pkl\n",
    "\n",
    "df_ords_prods.to_pickle(os.path.join(path, '02 Data','Prepared Data', 'orders_products_merged_4.7.pkl'))"
   ]
  },
  {
   "cell_type": "markdown",
   "id": "4861e2fd-a183-4378-a19d-51833aa2144b",
   "metadata": {},
   "source": [
    "# End of Exercise 4.7"
   ]
  },
  {
   "cell_type": "code",
   "execution_count": null,
   "id": "9590eb44-55af-4d58-ab79-13812e68c8b4",
   "metadata": {},
   "outputs": [],
   "source": []
  }
 ],
 "metadata": {
  "kernelspec": {
   "display_name": "Python 3 (ipykernel)",
   "language": "python",
   "name": "python3"
  },
  "language_info": {
   "codemirror_mode": {
    "name": "ipython",
    "version": 3
   },
   "file_extension": ".py",
   "mimetype": "text/x-python",
   "name": "python",
   "nbconvert_exporter": "python",
   "pygments_lexer": "ipython3",
   "version": "3.12.7"
  }
 },
 "nbformat": 4,
 "nbformat_minor": 5
}
