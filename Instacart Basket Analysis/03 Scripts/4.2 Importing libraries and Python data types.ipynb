{
 "cells": [
  {
   "cell_type": "markdown",
   "id": "7b15cf45-bb4c-4036-9160-d1d298aa7826",
   "metadata": {},
   "source": [
    "# 01. Importing libraries"
   ]
  },
  {
   "cell_type": "code",
   "execution_count": 4,
   "id": "1e667308-661a-41e2-a4b3-9ac4010175d4",
   "metadata": {},
   "outputs": [],
   "source": [
    "# Import libraries\n",
    "import pandas as pd\n",
    "import numpy as np\n",
    "import os"
   ]
  },
  {
   "cell_type": "markdown",
   "id": "95a15878-d2dd-4830-8b75-339b53d35c71",
   "metadata": {},
   "source": [
    "# 02. Working with Python datatypes"
   ]
  },
  {
   "cell_type": "code",
   "execution_count": 2,
   "id": "9f9b7318-5e8f-4fe5-a5a7-ab6d847c84e1",
   "metadata": {},
   "outputs": [
    {
     "data": {
      "text/plain": [
       "100"
      ]
     },
     "execution_count": 2,
     "metadata": {},
     "output_type": "execute_result"
    }
   ],
   "source": [
    "50+50"
   ]
  },
  {
   "cell_type": "code",
   "execution_count": 4,
   "id": "f9711884-c6d9-4f36-9747-ad3414161c44",
   "metadata": {},
   "outputs": [
    {
     "data": {
      "text/plain": [
       "100"
      ]
     },
     "execution_count": 4,
     "metadata": {},
     "output_type": "execute_result"
    }
   ],
   "source": [
    "x=25\n",
    "x*4"
   ]
  },
  {
   "cell_type": "code",
   "execution_count": 8,
   "id": "cd364856-53de-49b9-a447-33e211591f5a",
   "metadata": {},
   "outputs": [
    {
     "data": {
      "text/plain": [
       "100.0"
      ]
     },
     "execution_count": 8,
     "metadata": {},
     "output_type": "execute_result"
    }
   ],
   "source": [
    "y=300\n",
    "y/3"
   ]
  },
  {
   "cell_type": "code",
   "execution_count": 12,
   "id": "35e659e8-5bf6-407b-9f1b-65d14356cca0",
   "metadata": {},
   "outputs": [
    {
     "data": {
      "text/plain": [
       "2.421321961620469"
      ]
     },
     "execution_count": 12,
     "metadata": {},
     "output_type": "execute_result"
    }
   ],
   "source": [
    "a=5.678\n",
    "b=2.345\n",
    "a/b"
   ]
  },
  {
   "cell_type": "code",
   "execution_count": 14,
   "id": "1c7d9d5f-f9df-49fc-8448-7b5c48b1d64c",
   "metadata": {},
   "outputs": [],
   "source": [
    "p=\"pot\"\n",
    "q=\"ato\""
   ]
  },
  {
   "cell_type": "code",
   "execution_count": 16,
   "id": "d6525519-d6b5-4b20-a3e4-a9991b63e4a3",
   "metadata": {},
   "outputs": [
    {
     "data": {
      "text/plain": [
       "'potato'"
      ]
     },
     "execution_count": 16,
     "metadata": {},
     "output_type": "execute_result"
    }
   ],
   "source": [
    "p+q"
   ]
  },
  {
   "cell_type": "code",
   "execution_count": 18,
   "id": "f16a5678-d9be-4d02-895c-e81f0ad26206",
   "metadata": {},
   "outputs": [],
   "source": [
    "r=\"I'm learning Python\"\n",
    "s=\"It's interesting\""
   ]
  },
  {
   "cell_type": "code",
   "execution_count": 20,
   "id": "e3f38d1b-bfe6-47c5-8022-69c0632a2a36",
   "metadata": {},
   "outputs": [
    {
     "data": {
      "text/plain": [
       "\"I'm learning Python. It's interesting\""
      ]
     },
     "execution_count": 20,
     "metadata": {},
     "output_type": "execute_result"
    }
   ],
   "source": [
    "r+\". \"+s"
   ]
  },
  {
   "cell_type": "code",
   "execution_count": null,
   "id": "d3ce9907-061f-44b5-8456-b1e3c593784e",
   "metadata": {},
   "outputs": [],
   "source": []
  },
  {
   "cell_type": "code",
   "execution_count": null,
   "id": "d5c03f0c-adf5-4427-be43-0d59bfbd871c",
   "metadata": {},
   "outputs": [],
   "source": []
  }
 ],
 "metadata": {
  "kernelspec": {
   "display_name": "Python 3 (ipykernel)",
   "language": "python",
   "name": "python3"
  },
  "language_info": {
   "codemirror_mode": {
    "name": "ipython",
    "version": 3
   },
   "file_extension": ".py",
   "mimetype": "text/x-python",
   "name": "python",
   "nbconvert_exporter": "python",
   "pygments_lexer": "ipython3",
   "version": "3.12.7"
  }
 },
 "nbformat": 4,
 "nbformat_minor": 5
}
